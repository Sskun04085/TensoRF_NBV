{
 "cells": [
  {
   "cell_type": "markdown",
   "metadata": {},
   "source": [
    "## Show Image and corresponding NR-IQA"
   ]
  },
  {
   "cell_type": "code",
   "execution_count": 1,
   "metadata": {},
   "outputs": [],
   "source": [
    "import numpy as np\n",
    "import cv2 as cv\n",
    "import os\n",
    "import pickle\n",
    "import pandas as pd\n",
    "import math\n",
    "import random\n",
    "import matplotlib.pyplot as plt\n",
    "import mediapy as media\n",
    "import imageio\n",
    "import OpenEXR as exr\n",
    "from PIL import Image\n",
    "import array\n",
    "from load_blender_data import load_blender_data\n",
    "import json\n",
    "import re"
   ]
  },
  {
   "cell_type": "markdown",
   "metadata": {},
   "source": [
    "## Convert poses to corresponding blender pose"
   ]
  },
  {
   "cell_type": "code",
   "execution_count": 14,
   "metadata": {},
   "outputs": [
    {
     "name": "stdout",
     "output_type": "stream",
     "text": [
      "[[[-1.62920685e-07 -7.24846879e-01  6.88909901e-01  2.59303269e+00]\n",
      "  [ 1.00000000e+00 -1.35070781e-07  9.43737530e-08  6.39645410e-08]\n",
      "  [ 2.46450912e-08  6.88909901e-01  7.24846879e-01  3.07584902e+00]\n",
      "  [ 0.00000000e+00  0.00000000e+00  0.00000000e+00  1.00000000e+00]]\n",
      "\n",
      " [[ 9.65408795e-03 -7.25494176e-01  6.88160483e-01  2.59108106e+00]\n",
      "  [ 9.99850957e-01 -2.84699281e-03 -1.70281876e-02 -4.41336633e-02]\n",
      "  [ 1.43130389e-02  6.88222309e-01  7.25358561e-01  3.07716541e+00]\n",
      "  [ 0.00000000e+00  0.00000000e+00  0.00000000e+00  1.00000000e+00]]]\n"
     ]
    }
   ],
   "source": [
    "blender_poses_dir = \"D:\\graduate\\\\research\\\\nbv_nerf\\\\exp_res\\\\Depth_supervised\\\\Data\"\n",
    "ring_sample_dir = \"D:\\graduate\\\\research\\\\nbv_nerf\\\\Real_world_scene\\\\lego\\\\0\\\\Camera_poses.npy\"\n",
    "opencv2blender = np.array([[1,0,0,0],[0,-1,0,0],[0,0,-1,0],[0,0,0,1]])\n",
    "_, c2w_camera, _, _ = load_blender_data(os.path.join(blender_poses_dir), suggest_type=\"track\", total_num=360)\n",
    "# print(len(c2w_camera))\n",
    "center = c2w_camera[1]\n",
    "# print(center)\n",
    "ring_sample = np.load(ring_sample_dir)\n",
    "# ring_sample = ring_sample @ opencv2blender\n",
    "# print(ring_sample[0])\n",
    "target_view_blender = center @ ring_sample[15:17]\n",
    "# target_view_blender = target_view_blender @ opencv2blender\n",
    "print(target_view_blender)\n",
    "np.save(\"D:\\graduate\\\\research\\\\nbv_nerf\\\\Real_world_scene\\\\lego\\\\0\\\\Camera_poses_target.npy\", target_view_blender)\n",
    "# test = np.load(\"D:\\graduate\\\\research\\\\nbv_nerf\\\\Real_world_scene\\\\lego\\\\0\\\\Camera_poses_target.npy\")\n",
    "# print(test.shape)"
   ]
  },
  {
   "cell_type": "code",
   "execution_count": 12,
   "metadata": {},
   "outputs": [
    {
     "name": "stdout",
     "output_type": "stream",
     "text": [
      "[[[-7.82173648e-02 -8.23934078e-01  5.55750608e-01  2.22300243e+00]\n",
      "  [ 9.93844151e-01 -6.48451373e-02  4.37385775e-02  1.74954072e-01]\n",
      "  [ 1.76303629e-08  5.59192896e-01  8.29037488e-01  3.31615019e+00]\n",
      "  [ 0.00000000e+00  0.00000000e+00  0.00000000e+00  1.00000000e+00]]\n",
      "\n",
      " [[-5.21448851e-02 -8.00859272e-01  5.89186728e-01  2.35674691e+00]\n",
      "  [ 9.95896101e-01 -4.32300679e-02  2.91590411e-02  1.16636045e-01]\n",
      "  [ 1.91348382e-09  5.91481626e-01  8.04261506e-01  3.21704602e+00]\n",
      "  [ 0.00000000e+00  0.00000000e+00  0.00000000e+00  1.00000000e+00]]]\n"
     ]
    }
   ],
   "source": [
    "## blend poses\n",
    "blender_poses_dir = \"D:\\graduate\\\\research\\\\nbv_nerf\\\\exp_res\\\\Depth_supervised\\\\Data\"\n",
    "_, c2w_camera, _, _ = load_blender_data(os.path.join(blender_poses_dir), suggest_type=\"track\", total_num=360)\n",
    "# print(c2w_camera[0])\n",
    "# print(c2w_camera[1])\n",
    "# print(c2w_camera[0:2])\n",
    "c2w_blend = np.mean(c2w_camera[0:2], axis = 0)\n",
    "c2w_blend_s = np.mean(c2w_camera[0:3], axis = 0)\n",
    "# print(c2w_blend)\n",
    "c2w_blend = np.asarray([c2w_blend, c2w_blend_s])\n",
    "print(c2w_blend)\n",
    "np.save(\"D:\\graduate\\\\research\\\\nbv_nerf\\\\Real_world_scene\\\\lego\\\\1\\\\Camera_poses_blend.npy\", c2w_blend)"
   ]
  },
  {
   "cell_type": "markdown",
   "metadata": {},
   "source": [
    "## For pandas imgset / PSNR distribution / PSNR converter"
   ]
  },
  {
   "cell_type": "code",
   "execution_count": 3,
   "metadata": {},
   "outputs": [],
   "source": [
    "par_dir = \"D:\\\\graduate\\\\research\\\\nbv_nerf\\\\pre_trained\\\\data_info_files\\\\train_split_info\\\\test_ship_rabbit.pkl\"\n",
    "n_dir = \"D:\\\\graduate\\\\research\\\\nbv_nerf\\\\pre_trained\\\\data_info_files\\\\train_split_info\\\\NeRF_split_even.pkl\"\n",
    "with open(par_dir, 'rb') as handle:\n",
    "    unserialized_data = pickle.load(handle)\n",
    "\n",
    "with open(n_dir, 'rb') as r:\n",
    "    nerf_data = pickle.load(r)\n"
   ]
  },
  {
   "cell_type": "code",
   "execution_count": 6,
   "metadata": {},
   "outputs": [
    {
     "name": "stdout",
     "output_type": "stream",
     "text": [
      "[4 4 2 4 2 0 2 4 4 3 4]\n"
     ]
    }
   ],
   "source": [
    "# print(len(unserialized_data[1]['test']))\n",
    "# print(len(nerf_data[1]['train']))\n",
    "# idx = np.where(nerf_data[1]['train'] == 25205)[0]\n",
    "# print(nerf_data[1]['train'])\n",
    "# print(idx)\n",
    "\n",
    "## random generator\n",
    "# num = 11\n",
    "# a = np.random.choice(360,num, replace=False)\n",
    "# print(a)\n",
    "\n",
    "## round selector\n",
    "num = 11\n",
    "a = np.random.choice(5,num, replace=True)\n",
    "print(a)"
   ]
  },
  {
   "cell_type": "code",
   "execution_count": 3,
   "metadata": {},
   "outputs": [],
   "source": [
    "def inv_Rescale(in_array, omin=1, omax=10, nmin=5, nmax=45):\n",
    "    old_range = omax-omin\n",
    "    new_range = nmax-nmin\n",
    "    return ((in_array-omin) * new_range / old_range) + nmin\n",
    "def Rescale(in_array, omin=5, omax=45, nmin=1, nmax=10):\n",
    "    old_range = omax-omin\n",
    "    new_range = nmax-nmin\n",
    "    return ((in_array-omin) * new_range / old_range) + nmin\n",
    "def sorted_alphanumeric(data):\n",
    "    convert = lambda text: int(text) if text.isdigit() else text.lower()\n",
    "    alphanum_key = lambda key: [ convert(c) for c in re.split('([0-9]+)', key) ] \n",
    "    return sorted(data, key=alphanum_key)"
   ]
  },
  {
   "cell_type": "code",
   "execution_count": 6,
   "metadata": {},
   "outputs": [
    {
     "name": "stdout",
     "output_type": "stream",
     "text": [
      "6.4\n",
      "11.28\n"
     ]
    }
   ],
   "source": [
    "print(Rescale(29))\n",
    "print(inv_Rescale(2.413))"
   ]
  },
  {
   "cell_type": "code",
   "execution_count": 7,
   "metadata": {},
   "outputs": [
    {
     "name": "stdout",
     "output_type": "stream",
     "text": [
      "(24948,)\n",
      "[2 7 3 ... 3 5 2]\n"
     ]
    },
    {
     "name": "stderr",
     "output_type": "stream",
     "text": [
      "No artists with labels found to put in legend.  Note that artists whose label start with an underscore are ignored when legend() is called with no argument.\n"
     ]
    },
    {
     "data": {
      "image/png": "[encoded data removed]",
      "text/plain": [
       "<Figure size 640x480 with 1 Axes>"
      ]
     },
     "metadata": {},
     "output_type": "display_data"
    }
   ],
   "source": [
    "## plot dataset distribution\n",
    "mode = \"train\" # /val\n",
    "dataset_type = \"full\"\n",
    "\n",
    "tar_file = \"NeRF_split.pkl\" if dataset_type == \"full\" else \"NeRF_split_even.pkl\"\n",
    "\n",
    "split_file = f\"D:\\\\graduate\\\\research\\\\nbv_nerf\\\\pre_trained\\\\data_info_files\\\\train_split_info\\\\{tar_file}\"\n",
    "with open(split_file, 'rb') as r:\n",
    "    nerf_data = pickle.load(r)\n",
    "\n",
    "train_idx = nerf_data[1]['train']\n",
    "val_idx = nerf_data[1]['val']\n",
    "\n",
    "d_idx = train_idx if mode ==\"train\" else val_idx\n",
    "\n",
    "savediffdir = f\"D:\\\\graduate\\\\research\\\\nbv_nerf\\\\pre_trained\\\\{mode}_{dataset_type}_dist.png\"\n",
    "csv_dir = \"D:\\\\graduate\\\\research\\\\nbv_nerf\\\\pre_trained\\\\data_info_files\\\\meta_info\\\\NeRF_dataset.csv\"\n",
    "data_set = pd.read_csv(csv_dir)\n",
    "data_set_list = data_set.values\n",
    "# print(data_set_list[:])\n",
    "all_val = data_set_list[d_idx, 1].astype(float)\n",
    "print(all_val.shape)\n",
    "# for i in all_val:\n",
    "#     around_value = np.around(i)\n",
    "#     print(around_value)\n",
    "around_value = np.around(all_val).astype(int)\n",
    "print(around_value)\n",
    "\n",
    "y = np.zeros(10, dtype=int)\n",
    "x = np.arange(1, 11)\n",
    "\n",
    "uni, cnts = np.unique(around_value, return_counts=True)\n",
    "n_dict = dict(zip(uni, cnts))\n",
    "for key, value in n_dict.items():\n",
    "    y[int(key)-1] = value\n",
    "## plot\n",
    "plt.grid(True)\n",
    "plt.title(f\"Training Dataset Distribution/ Total {mode} data :{len(all_val)}\")\n",
    "plt.ylabel(\"Numbers\")\n",
    "plt.xlabel(\"Quality class\")\n",
    "# plt.ylim(-10, 260)\n",
    "plt.xticks(x)\n",
    "plt.xlim(0, 11)\n",
    "plt.bar(x, y)\n",
    "# plt.setp(lines, marker=\"o\")\n",
    "plt.legend(loc='best')\n",
    "plt.savefig(savediffdir)\n",
    "plt.show()\n"
   ]
  },
  {
   "cell_type": "code",
   "execution_count": 8,
   "metadata": {},
   "outputs": [
    {
     "name": "stdout",
     "output_type": "stream",
     "text": [
      "        img_name       MOS  c1  c2  c3  c4  c5  c6  c7  c8  c9  c10\n",
      "0          0.png  2.437157   2  64  33   1   0   0   0   0   0    0\n",
      "1          1.png  2.412895   3  58  37   2   0   0   0   0   0    0\n",
      "2          2.png  2.360303   5  54  40   1   0   0   0   0   0    0\n",
      "3          3.png  2.321722   4  61  34   1   0   0   0   0   0    0\n",
      "4          4.png  2.285479   8  59  33   0   0   0   0   0   0    0\n",
      "...          ...       ...  ..  ..  ..  ..  ..  ..  ..  ..  ..  ...\n",
      "30235  27715.png  7.059404   0   0   0   0   0  14  66  20   0    0\n",
      "30236  27716.png  7.213430   0   0   0   0   0   4  69  26   1    0\n",
      "30237  27717.png  7.149612   0   0   0   0   0   9  69  22   0    0\n",
      "30238  27718.png  7.019214   0   0   0   0   0  14  74  12   0    0\n",
      "30239  27719.png  6.991794   0   0   0   0   0  19  69  12   0    0\n",
      "\n",
      "[30240 rows x 12 columns]\n",
      "30240\n"
     ]
    }
   ],
   "source": [
    "csv_dir = \"D:\\\\graduate\\\\research\\\\nbv_nerf\\\\pre_trained\\\\data_info_files\\\\meta_info\\\\NeRF_dataset.csv\"\n",
    "data_set = pd.read_csv(csv_dir)\n",
    "# print(a['img_name'])\n",
    "# a['img_name'] = sorted_alphanumeric(a['img_name'])\n",
    "# print(a['img_name'])\n",
    "appending = \"D:\\\\graduate\\\\research\\\\nbv_nerf\\\\pre_trained\\\\data_info_files\\\\meta_info\\\\NeRF_full.csv\"\n",
    "# a.to_csv(csv_save_dir, index=False)\n",
    "append_chair = pd.read_csv(appending)\n",
    "# print(append_chair)\n",
    "data_set = data_set.append(append_chair, ignore_index=True)\n",
    "print(data_set)\n",
    "print(len(data_set))\n",
    "\n",
    "# save_dir = \"D:\\\\graduate\\\\research\\\\nbv_nerf\\\\pre_trained\\\\data_info_files\\\\meta_info\\\\NeRF_dataset_mod_full.csv\"\n",
    "\n",
    "# data_set.iloc[3600:7200] = append_chair.iloc[0:3600]\n",
    "\n",
    "# print(data_set.iloc[3600])\n",
    "# data_set.to_csv(save_dir, index=False)\n",
    "\n",
    "\n",
    "\n",
    "# cnt = 0\n",
    "# idx_col =[]\n",
    "# col = 'MOS'\n",
    "# for i in range(len(data_set[col])):\n",
    "#     if abs(data_set[col][i] - append_chair[col][i])>0.00000001:\n",
    "#         # print(f\"{a[col][i]} and {b[col][i]}\")\n",
    "#         cnt+=1\n",
    "#         idx_col.append(i+2)\n",
    "# print(cnt)\n",
    "# print(idx_col)"
   ]
  },
  {
   "cell_type": "code",
   "execution_count": 9,
   "metadata": {},
   "outputs": [
    {
     "name": "stdout",
     "output_type": "stream",
     "text": [
      "0\n",
      "2\n",
      "4\n",
      "6\n",
      "8\n",
      "10\n",
      "12\n",
      "14\n",
      "16\n",
      "18\n",
      "20\n",
      "22\n",
      "24\n",
      "26\n",
      "28\n",
      "30\n",
      "32\n",
      "34\n",
      "36\n",
      "38\n",
      "40\n",
      "42\n",
      "44\n",
      "46\n",
      "48\n",
      "50\n",
      "52\n",
      "54\n",
      "56\n",
      "58\n",
      "60\n",
      "62\n",
      "64\n",
      "66\n",
      "68\n",
      "12600\n",
      "15120\n"
     ]
    }
   ],
   "source": [
    "#split file\n",
    "split_file = \"D:\\\\graduate\\\\research\\\\nbv_nerf\\\\pre_trained\\\\data_info_files\\\\train_split_info\\\\NeRF_split_even.pkl\"\n",
    "PSNR_cols = 27720\n",
    "# b = np.arange(21600, 25200)\n",
    "base = None\n",
    "b = np.arange(0, 360)\n",
    "for i in range(0, 69, 2):\n",
    "    print(i)\n",
    "    if i == 0:\n",
    "        base = np.arange(0, 360)\n",
    "    else:\n",
    "        tmp = b+360*i\n",
    "        base = np.concatenate([base, tmp])\n",
    "# print(base[12599])\n",
    "print(len(base))\n",
    "\n",
    "# a = np.arange(28800)\n",
    "# arr = np.setdiff1d(a, b)\n",
    "# print(len(arr))\n",
    "# # print(b)\n",
    "# print(arr[21600])\n",
    "\n",
    "\n",
    "\n",
    "\n",
    "\n",
    "arr = np.arange(PSNR_cols)\n",
    "arr = np.setdiff1d(arr, base)\n",
    "total_size = len(arr)\n",
    "print(total_size)\n",
    "val_size = int(total_size/10)\n",
    "np.random.shuffle(arr)\n",
    "split = {}\n",
    "split[1] = {'train':arr[:-val_size], 'val':arr[-val_size:]}\n",
    "\n",
    "with open(split_file, 'wb') as handle:\n",
    "    pickle.dump(split, handle, protocol=pickle.HIGHEST_PROTOCOL)\n"
   ]
  },
  {
   "cell_type": "code",
   "execution_count": 10,
   "metadata": {},
   "outputs": [
    {
     "name": "stdout",
     "output_type": "stream",
     "text": [
      "     0\n",
      "0  aaa\n",
      "1  bbb\n",
      "2  ccc\n",
      "     0\n",
      "0  5.5\n",
      "1  8.0\n",
      "2  3.0\n",
      "   0   1   2   3   4   5   6   7   8  9\n",
      "0  0   0   0   3  43  50   4   0   0  0\n",
      "1  0   0   0   0   0   0  14  72  14  0\n",
      "2  0  14  68  18   0   0   0   0   0  0\n",
      "  img_name  MOS  c1  c2  c3  c4  c5  c6  c7  c8  c9  c10\n",
      "0      aaa  5.5   0   0   0   3  43  50   4   0   0    0\n",
      "1      bbb  8.0   0   0   0   0   0   0  14  72  14    0\n",
      "2      ccc  3.0   0  14  68  18   0   0   0   0   0    0\n"
     ]
    }
   ],
   "source": [
    "# csv_dir = \"D:\\\\graduate\\\\research\\\\nbv_nerf\\\\pre_trained\\\\data_info_files\\\\meta_info\\\\meta_info_AVADataset.csv\"\n",
    "# data = pd.read_csv(csv_dir)\n",
    "# print(data.values.tolist()[0][10])\n",
    "test_csv = \"D:\\\\graduate\\\\research\\\\nbv_nerf\\\\pre_trained\\\\data_info_files\\\\meta_info\\\\test.csv\"\n",
    "columns = ['img_name', 'MOS', 'c1', 'c2', 'c3', 'c4', 'c5', 'c6', 'c7', 'c8', 'c9', 'c10']\n",
    "# n_class = np.zeros(10, dtype=int).tolist()\n",
    "\n",
    "img_name = ['aaa', 'bbb', 'ccc']\n",
    "MOS_list = [5.5, 8, 3]\n",
    "tmp_dist = []\n",
    "tmp_img = []\n",
    "for idx, v in enumerate(MOS_list):\n",
    "    n_class = np.zeros(10, dtype=int)\n",
    "    n_dist = np.clip(np.around(np.random.normal(v, 0.5, 100)), 1, 10)\n",
    "    unique, counts = np.unique(n_dist, return_counts=True)\n",
    "    n_dict = dict(zip(unique, counts))\n",
    "    for key, value in n_dict.items():\n",
    "        n_class[int(key)-1] = value\n",
    "    tmp_dist.append(n_class)\n",
    "    # tmp_img.append(img_name[idx])\n",
    "df = pd.DataFrame(img_name)\n",
    "print(df)\n",
    "df2 = pd.DataFrame(MOS_list)\n",
    "print(df2)\n",
    "df3 = pd.DataFrame(tmp_dist)\n",
    "print(df3)\n",
    "dfa = pd.concat([df, df2, df3], axis=1)\n",
    "dfa.columns = columns\n",
    "print(dfa)\n",
    "dfa.to_csv(test_csv, index=False)"
   ]
  },
  {
   "cell_type": "code",
   "execution_count": 11,
   "metadata": {},
   "outputs": [
    {
     "name": "stdout",
     "output_type": "stream",
     "text": [
      "[ 41 115  86 206 237 176 354 317 279 248]\n",
      "[317  86 115  41 354 206 279 248 237 176]\n"
     ]
    }
   ],
   "source": [
    "## generate data sequence\n",
    "np.random.seed(10)\n",
    "layer_1 = np.random.choice(np.arange(0, 80), 1, replace=False)\n",
    "layer_2 = np.random.choice(np.arange(80, 160), 2, replace=False)\n",
    "layer_3 = np.random.choice(np.arange(160, 240), 3, replace=False)\n",
    "layer_4 = np.random.choice(np.arange(240, 360), 4, replace=False)\n",
    "all_layer = np.concatenate([layer_1, layer_2, layer_3, layer_4])\n",
    "target = np.random.permutation(all_layer)\n",
    "print(all_layer)\n",
    "print(target)"
   ]
  },
  {
   "cell_type": "markdown",
   "metadata": {},
   "source": [
    "## For Test Image / vis depth"
   ]
  },
  {
   "cell_type": "code",
   "execution_count": 12,
   "metadata": {},
   "outputs": [
    {
     "name": "stdout",
     "output_type": "stream",
     "text": [
      "[1, 15, 10]\n"
     ]
    }
   ],
   "source": [
    "## read json and add NBV\n",
    "Base_dir = \"D:\\\\graduate\\\\research\\\\nbv_nerf\\\\nerf_synthetic\\\\lego\"\n",
    "Source_file = \"transforms_train\"\n",
    "target_file = \"transforms_train_2view\"\n",
    "\n",
    "# now list must be load in and write out\n",
    "now_list = [1, 15]\n",
    "target_list= [10, 15]\n",
    "\n",
    "##  database\n",
    "with open(os.path.join(Base_dir, f'{Source_file}.json'), 'r') as soucefp:\n",
    "    meta = json.load(soucefp)\n",
    "\n",
    "\n",
    "## original set\n",
    "with open(os.path.join(Base_dir, f'{target_file}.json'), 'r') as targetfp:\n",
    "    target = json.load(targetfp)\n",
    "\n",
    "## append then together\n",
    "for i in target_list:\n",
    "    if i in now_list:\n",
    "        continue\n",
    "    target['frames'].append(meta['frames'][i])\n",
    "    now_list.append(i)\n",
    "    print(now_list)\n",
    "\n",
    "## write to original file\n",
    "with open(os.path.join(Base_dir, f'{target_file}.json'), 'w') as targetfp:\n",
    "    json.dump(target, targetfp, indent = 4)"
   ]
  },
  {
   "cell_type": "code",
   "execution_count": 13,
   "metadata": {},
   "outputs": [
    {
     "name": "stdout",
     "output_type": "stream",
     "text": [
      "[[ 1.0000000e+00  1.1507917e-16 -4.1885392e-17 -1.6754157e-16]\n",
      " [-1.2246469e-16  9.3969262e-01 -3.4202015e-01 -1.3680806e+00]\n",
      " [ 0.0000000e+00  3.4202015e-01  9.3969262e-01  3.7587705e+00]\n",
      " [ 0.0000000e+00  0.0000000e+00  0.0000000e+00  1.0000000e+00]]\n"
     ]
    }
   ],
   "source": [
    "Base_dir = \"Depth_supervised\\\\lego\\\\TensoRF_random_2\"\n",
    "Image_dir = \"imgs_path_all\"\n",
    "\n",
    "\n",
    "Data_dir = \"Depth_supervised\\\\Data\"\n",
    "# Camera_dir = \"results_5\"\n",
    "def normalize(img):\n",
    "    _min = img.min()\n",
    "    _max = img.max()\n",
    "    return (img-_min)/(_max-_min)\n",
    "\n",
    "c2w = np.load(os.path.join(Base_dir, Image_dir, 'Camera_poses.npy'))\n",
    "# c2w = c2w[:, 0:3, 3].T\n",
    "print(c2w[0])\n",
    "\n",
    "# Data_dir = \"Depth_supervised\\\\Data\""
   ]
  },
  {
   "cell_type": "code",
   "execution_count": 5,
   "metadata": {},
   "outputs": [
    {
     "name": "stdout",
     "output_type": "stream",
     "text": [
      "-0.88110584\n",
      "5.278579\n"
     ]
    }
   ],
   "source": [
    "# Base_dir = \"test_image\"\n",
    "# Imgs = [os.path.join(Base_dir, f) for f in sorted(os.listdir(os.path.join(Base_dir))) \\\n",
    "#     if f.endswith('bmp')]\n",
    "# Imgs_col = np.array([Image.open(Imgs[i]) for i in range(len(Imgs))])\n",
    "# cor_score = np.loadtxt(os.path.join(Base_dir, 'test_output.txt'))\n",
    "\n",
    "# media.show_images(\n",
    "#     [Imgs_col[0], Imgs_col[2], Imgs_col[3], Imgs_col[1]],\n",
    "#     titles = [f'score: {cor_score[0]:03f}', f'score: {cor_score[2]:03f}', f'score: {cor_score[3]:03f}', f'score: {cor_score[1]:03f}'],\n",
    "#     columns = 4, height = 320\n",
    "# )\n",
    "\n",
    "## show gray scale\n",
    "def visualize_depth_numpy(depth, minmax=None, cmap=cv.COLORMAP_JET):\n",
    "    \"\"\"\n",
    "    depth: (H, W)\n",
    "    \"\"\"\n",
    "\n",
    "    x = np.nan_to_num(depth) # change nan to 0\n",
    "    if minmax is None:\n",
    "        mi = np.min(x[x>0]) # get minimum positive depth (ignore background)\n",
    "        ma = np.max(x)\n",
    "    else:\n",
    "        mi,ma = minmax\n",
    "    idx = np.where( abs(x-2.0)<0.2)\n",
    "\n",
    "    x = (x-mi)/(ma-mi+1e-8) # normalize to 0~1\n",
    "\n",
    "    x = (255*x).astype(np.uint8)\n",
    "    x = cv.applyColorMap(x, cmap)\n",
    "    # x[idx] = 255\n",
    "    # print(len(x[idx]))\n",
    "    return x, [mi,ma]\n",
    "\n",
    "Base_dir = \"Depth_supervised\\\\lego\\\\NBV_exp\\\\Uniform_views\"\n",
    "Project_dir = \"tensorf_lego_VM_Uniform_1\\\\image\"\n",
    "num = 174\n",
    "file = f\"{num}.npz\"\n",
    "depth = np.load(os.path.join(Base_dir, Project_dir, file))['depth']\n",
    "print(depth.min())\n",
    "print(depth.max())\n",
    "d, _ = visualize_depth_numpy(depth, [2.0, 6.0])\n",
    "imageio.imwrite(os.path.join(Base_dir, Project_dir, f\"{num}_d_color.png\"), d)\n",
    "# plt.imshow(d)\n",
    "# plt.show()\n",
    "# cv.imwrite(os.path.join(Base_dir, \"113_d.png\"), depth)\n",
    "## test min depth \n",
    "# Base_dir = \"results_10\"\n",
    "# file = \"r_7_depth_0001.exr\"\n",
    "# test = exr.InputFile(os.path.join(Base_dir, file))\n",
    "# (R, G, B) = [array.array('f', test.channel(Chan)).tolist() for Chan in (\"R\", \"G\", \"B\") ]\n",
    "\n",
    "# R_np = np.asarray(R, dtype = np.float32)\n",
    "# R_np = R_np.reshape((800, 800))\n",
    "# print(R_np.min())"
   ]
  },
  {
   "cell_type": "markdown",
   "metadata": {},
   "source": [
    "## Image Concatenate"
   ]
  },
  {
   "cell_type": "code",
   "execution_count": 6,
   "metadata": {},
   "outputs": [],
   "source": [
    "Base_dir = \"Depth_supervised\\\\lego\\\\NBV_exp\\\\Uniform_views\"\n",
    "# Project_dir = \"tensorf_lego_VM_Uniform_1\\\\image\"\n",
    "Project_dir = \"tensorf_lego_VM_Uniform_1\\\\image\"\n",
    "num = 174\n",
    "file_A = f\"{num}.png\"\n",
    "file_B = f\"{num}_d_color.png\"\n",
    "a = imageio.imread(os.path.join(Base_dir, Project_dir, file_A))\n",
    "b = imageio.imread(os.path.join(Base_dir, Project_dir, file_B))\n",
    "res = np.concatenate((a, b), axis = 1)\n",
    "imageio.imwrite(os.path.join(Base_dir, Project_dir, f\"{num}_concatenate.png\"), res)"
   ]
  },
  {
   "cell_type": "markdown",
   "metadata": {},
   "source": [
    "## For Depth-supervised"
   ]
  },
  {
   "cell_type": "code",
   "execution_count": null,
   "metadata": {},
   "outputs": [],
   "source": [
    "Base_dir = \"Depth_supervised\\\\blender_paper_lego_depth_test_5_DSNeRF\"\n",
    "Set_dir = \"testset_010000\"\n",
    "Imgs = [os.path.join(Base_dir, Set_dir, f) for f in sorted(os.listdir(os.path.join(Base_dir, Set_dir))) \\\n",
    "    if f.endswith('png')]\n",
    "Imgs = Imgs[::2] # for depth directory\n",
    "Imgs_col = np.array([Image.open(Imgs[i]) for i in (0, 3, 6, 9)])\n",
    "cor_score = np.loadtxt(os.path.join(Base_dir, '0369_test5_depth_output.txt'))\n",
    "\n",
    "media.show_images(\n",
    "    [Imgs_col[0], Imgs_col[1], Imgs_col[2], Imgs_col[3]],\n",
    "    titles = [f'score: {cor_score[0]:03f}', f'score: {cor_score[1]:03f}', f'score: {cor_score[2]:03f}', f'score: {cor_score[3]:03f}'],\n",
    "    columns = 4, height = 320\n",
    ")"
   ]
  },
  {
   "cell_type": "markdown",
   "metadata": {},
   "source": [
    "## For Fully Training NeRF"
   ]
  },
  {
   "cell_type": "code",
   "execution_count": null,
   "metadata": {},
   "outputs": [],
   "source": [
    "Base_dir = \"full\"\n",
    "Set_dir = \"testset_for_render_only\"\n",
    "Imgs = [os.path.join(Base_dir, Set_dir, f) for f in sorted(os.listdir(os.path.join(Base_dir, Set_dir))) \\\n",
    "    if f.endswith('png')]\n",
    "# Imgs = Imgs[::2] # for depth directory\n",
    "Imgs_col = np.array([Image.open(Imgs[i]) for i in (0, 3, 6, 9)])\n",
    "cor_score = np.loadtxt(os.path.join(Base_dir, 'full_100views_render_only.txt'))\n",
    "\n",
    "media.show_images(\n",
    "    [Imgs_col[0], Imgs_col[1], Imgs_col[2], Imgs_col[3]],\n",
    "    titles = [f'score: {cor_score[0]:03f}', f'score: {cor_score[3]:03f}', f'score: {cor_score[6]:03f}', f'score: {cor_score[9]:03f}'],\n",
    "    columns = 4, height = 320\n",
    ")"
   ]
  },
  {
   "cell_type": "markdown",
   "metadata": {},
   "source": [
    "## Calculate Depth error (close to near)"
   ]
  },
  {
   "cell_type": "code",
   "execution_count": null,
   "metadata": {},
   "outputs": [
    {
     "name": "stdout",
     "output_type": "stream",
     "text": [
      "1.0\n"
     ]
    }
   ],
   "source": [
    "Base_dir = \"Depth_supervised\\\\lego\\\\blender_paper_lego_random_5_crop_true_table\"\n",
    "Image_dir = \"renderonly_path_009999\"\n",
    "Save_dir = \"result\"\n",
    "\n",
    "Imgs = [os.path.join(Base_dir, Image_dir, f) for f in sorted(os.listdir(os.path.join(Base_dir, Image_dir))) \\\n",
    "    if f.endswith('npz')]\n",
    "# print(Imgs)\n",
    "Size = np.load(Imgs[0])['depth'].shape\n",
    "Total_pixels = Size[0]*Size[1]\n",
    "\n",
    "depth_err_col = []\n",
    "for Img_nam in Imgs:\n",
    "    depth = np.load(Img_nam)['depth']\n",
    "    Error = np.abs(depth - 2.0) # diff near\n",
    "    N_Error = (Error < 0.2).sum() / Total_pixels  # normalize [0-1]\n",
    "    depth_err_col.append(N_Error)\n",
    "depth_err_col = np.array(depth_err_col)\n",
    "print(depth_err_col.max())\n",
    "np.savetxt(os.path.join(Base_dir, Save_dir, 'Depth_Errors.txt'), depth_err_col, fmt='%f')\n",
    "\n",
    "# print(depth_err_col)\n",
    "# print(np.load(Imgs[1])['depth'][100, 180])"
   ]
  },
  {
   "cell_type": "markdown",
   "metadata": {},
   "source": [
    "## Compute Quality Loss (\\alpha * NRIQA + \\beta * Depth_Outliers)"
   ]
  },
  {
   "cell_type": "code",
   "execution_count": 11,
   "metadata": {},
   "outputs": [
    {
     "name": "stdout",
     "output_type": "stream",
     "text": [
      "(360,)\n"
     ]
    }
   ],
   "source": [
    "def standarization(X):\n",
    "    X_mean = np.mean(X, axis=0)\n",
    "    X_std = np.std(X, axis=0)\n",
    "    return (X - X_mean)/X_std\n",
    "\n",
    "Global_idx = 1\n",
    "suggest_type = \"NBV_suggest\" # NBV_suggest / Random_views / Uniform_views\n",
    "exp_type = \"Rand\" # DO / NRIQA /Rand / AllUncert/ Max\n",
    "Model = \"lego\" # lego / chair / rabbit\n",
    "\n",
    "if suggest_type == \"NBV_suggest\":\n",
    "    save_type = \"NBV\"\n",
    "elif suggest_type == \"Random_views\":\n",
    "    save_type = \"Random_NBV\"\n",
    "else:\n",
    "    save_type = \"Uniform\"\n",
    "\n",
    "if exp_type == \"AllUncert\":\n",
    "    exp_name = f'{Model}_AllUncert'\n",
    "elif exp_type == \"NRIQA\":\n",
    "    exp_name = f'{Model}_NRIQA'\n",
    "elif exp_type == \"DO\":\n",
    "    exp_name = f'{Model}_DO'\n",
    "elif exp_type == \"Max\":\n",
    "    exp_name = f'{Model}_Max'\n",
    "else:\n",
    "    exp_name = f'{Model}_Rand'\n",
    "\n",
    "# Save_dir = f\"tensorf_{Model}_VM_{save_type}_1\"\n",
    "Base_dir = f\"Depth_supervised\\\\lego\\\\NBV_exp\\\\{suggest_type}\\\\{exp_type}\\\\{exp_name}\"\n",
    "Save_dir = f\"{Model}_{save_type}_{exp_type}_{Global_idx}_res\"\n",
    "# Save_dir = \"test_new_IQA\"\n",
    "\n",
    "NRIQA = np.loadtxt(os.path.join(Base_dir, Save_dir, 'IQA_output.txt'))\n",
    "Raw_NRIQA = NRIQA.copy()\n",
    "max_IQA = 10\n",
    "NRIQA = max_IQA-NRIQA ## reverse value to match uncertainty (higher is bad)\n",
    "NRIQA /= 9 # normalize [1-10] [1-100] \n",
    "# NRIQA = standarization(NRIQA)\n",
    "\n",
    "DO = np.loadtxt(os.path.join(Base_dir, Save_dir, 'Depth_Errors.txt'))\n",
    "# DO = standarization(DO)\n",
    "\n",
    "# print(good_IQA_idx)\n",
    "alpha = 1\n",
    "beta = 0\n",
    "# alpha = 1/90\n",
    "# beta = 89/90\n",
    "test = NRIQA*alpha+DO*beta\n",
    "# test = DO\n",
    "print(test.shape)\n",
    "# print(NRIQA)\n",
    "min_val = None"
   ]
  },
  {
   "cell_type": "markdown",
   "metadata": {},
   "source": [
    "## Load Test Views PSNR"
   ]
  },
  {
   "cell_type": "code",
   "execution_count": 115,
   "metadata": {},
   "outputs": [],
   "source": [
    "# suggest_type = \"NBV_suggest\" # NBV_suggest / Random_views / Uniform_views\n",
    "# exp_type = \"Rand\" # DO / NRIQA /Rand\n",
    "# Model = \"lego\" # lego / chair / drums /ship\n",
    "\n",
    "if suggest_type == \"NBV_suggest\":\n",
    "    save_type = \"NBV\"\n",
    "elif suggest_type == \"Random_views\":\n",
    "    save_type = \"Random_NBV\"\n",
    "else:\n",
    "    save_type = \"Uniform\"\n",
    "\n",
    "if exp_type == \"AllUncert\":\n",
    "    exp_name = f'{Model}_AllUncert'\n",
    "elif exp_type == \"NRIQA\":\n",
    "    exp_name = f'{Model}_NRIQA'\n",
    "elif exp_type == \"DO\":\n",
    "    exp_name = f'{Model}_DO'\n",
    "elif exp_type == \"Max\":\n",
    "    exp_name = f'{Model}_Max'\n",
    "else:\n",
    "    exp_name = f'{Model}_Rand'\n",
    "\n",
    "Base_dir = f\"Depth_supervised\\\\lego\\\\NBV_exp\\\\{suggest_type}\\\\{exp_type}\\\\{exp_name}\"\n",
    "Save_dir = f\"{Model}_{save_type}_{exp_type}_{Global_idx}_res\"\n",
    "PSNR_test = np.loadtxt(os.path.join(Base_dir, Save_dir, 'test_views_PSNR.txt'))\n",
    "min_val = 5.0\n",
    "max_val = 45.0\n",
    "PSNR_test = np.clip(PSNR_test, min_val, max_val)\n",
    "# print(test)"
   ]
  },
  {
   "cell_type": "markdown",
   "metadata": {},
   "source": [
    "## Get Information of NRIQA and DO Selection Idx"
   ]
  },
  {
   "cell_type": "code",
   "execution_count": null,
   "metadata": {},
   "outputs": [
    {
     "name": "stdout",
     "output_type": "stream",
     "text": [
      "bad index: 353\n",
      "353\n",
      "350\n",
      "NRIQA dominate: NRIQA: 0.5866402520073785 + DO: 0.053678125 = 0.6403183770073785\n",
      "DO dominate: NRIQA: 0.5059175491333008 + DO: 0.11069375000000001 = 0.6166112991333008\n",
      "Suggest id:353 NRIQA: 0.5866402520073785 + DO: 0.053678125 = 0.6403183770073785\n"
     ]
    }
   ],
   "source": [
    "bad_Q = np.where(test == test.max())[0][0]\n",
    "# bad_PSNR = np.where(PSNR_test == PSNR_test.min())[0][0]\n",
    "# worstIQA_idx = np.where(NRIQA == NRIQA.max())[0][0]\n",
    "# worstDO_idx = np.where(DO == 0)[0][10]\n",
    "# print(bad_Q)\n",
    "# print(bad_PSNR)\n",
    "# print(NRIQA[worstDO_idx])\n",
    "# print(DO[worstDO_idx])\n",
    "print(f\"bad index: {bad_Q}\")\n",
    "\n",
    "good_IQA_idx = np.where(NRIQA == NRIQA.max())[0][0]\n",
    "good_DO_idx = np.where(DO == DO.max())[0][0]\n",
    "print(good_IQA_idx)\n",
    "print(good_DO_idx)\n",
    "\n",
    "print(f\"NRIQA dominate: NRIQA: {NRIQA[good_IQA_idx]} + DO: {DO[good_IQA_idx]*89} = {NRIQA[good_IQA_idx] + DO[good_IQA_idx]*89}\")\n",
    "print(f\"DO dominate: NRIQA: {NRIQA[good_DO_idx]} + DO: {DO[good_DO_idx]*89} = {NRIQA[good_DO_idx] + DO[good_DO_idx]*89}\")\n",
    "print(f\"Suggest id:{bad_Q} NRIQA: {NRIQA[bad_Q]} + DO: {DO[bad_Q]*89} = {NRIQA[bad_Q] + DO[bad_Q]*89}\")"
   ]
  },
  {
   "cell_type": "code",
   "execution_count": null,
   "metadata": {},
   "outputs": [
    {
     "name": "stdout",
     "output_type": "stream",
     "text": [
      "358\n"
     ]
    }
   ],
   "source": [
    "min_PSNR_idx = np.where(PSNR_test==PSNR_test.min())[0][0]\n",
    "print(min_PSNR_idx)"
   ]
  },
  {
   "cell_type": "markdown",
   "metadata": {},
   "source": [
    "## Delete All and add all views for transform_{suggest_type} Only Do once !!!!!!!!!!"
   ]
  },
  {
   "cell_type": "code",
   "execution_count": 12,
   "metadata": {},
   "outputs": [
    {
     "name": "stdout",
     "output_type": "stream",
     "text": [
      "[ 61. 119. 273. 329. 150. 190.  19. 205. 328. 209. 356. 136.  97. 151.\n",
      "  68.]\n",
      "61.0\n",
      "119.0\n",
      "273.0\n",
      "329.0\n",
      "150.0\n",
      "190.0\n",
      "19.0\n",
      "205.0\n",
      "328.0\n",
      "209.0\n",
      "356.0\n",
      "136.0\n",
      "97.0\n",
      "151.0\n",
      "68.0\n"
     ]
    }
   ],
   "source": [
    "Source_file = \"Depth_supervised\\\\Data\\\\Render_Specify_views_lego\\\\transforms_train\"\n",
    "Target_file = f\"Depth_supervised\\\\Data\\\\transforms_train_{suggest_type}\"\n",
    "## file for now view txt\n",
    "File_path = f\"Depth_supervised\\\\lego\\\\NBV_exp\\\\{suggest_type}\\\\{exp_type}\\\\{exp_name}\"\n",
    "# os.makedirs(f'{File_path}', exist_ok=True)\n",
    "##  database\n",
    "with open(os.path.join(f'{Source_file}.json'), 'r') as soucefp:\n",
    "    meta = json.load(soucefp)\n",
    "\n",
    "## original set\n",
    "with open(os.path.join(f'{Target_file}.json'), 'r') as targetfp:\n",
    "    target = json.load(targetfp)\n",
    "## remove all views first\n",
    "target['frames'] = []\n",
    "\n",
    "now_list = np.loadtxt(os.path.join(f'{File_path}', 'Now_Views.txt'))\n",
    "target_list = now_list[2:]\n",
    "\n",
    "print(target_list)\n",
    "\n",
    "## write target\n",
    "## append then together\n",
    "for i in target_list:\n",
    "    print(i)\n",
    "    target['frames'].append(meta['frames'][int(i)])\n",
    "\n",
    "with open(os.path.join(f'{Target_file}.json'), 'w') as targetfp:\n",
    "    json.dump(target, targetfp, indent = 4)\n"
   ]
  },
  {
   "cell_type": "markdown",
   "metadata": {},
   "source": [
    "## 3D interactive"
   ]
  },
  {
   "cell_type": "code",
   "execution_count": 13,
   "metadata": {},
   "outputs": [
    {
     "name": "stdout",
     "output_type": "stream",
     "text": [
      "(360,)\n",
      "[[-0.118502    2.1997645  -0.7538537   3.0392015  -0.27084714]\n",
      " [-2.0725002  -1.7076775  -3.6638741   2.4443016  -3.0458837 ]\n",
      " [ 3.4191666   2.871389    1.4169445   0.88805556  2.5786111 ]]\n"
     ]
    }
   ],
   "source": [
    "Base_dir = \"Depth_supervised\\\\lego\\\\NBV_exp\"\n",
    "Image_dir = \"camera_pose\"\n",
    "Savefig = False\n",
    "saveDir_pic = f\"Depth_supervised\\\\lego\\\\NBV_exp\\\\{suggest_type}\\\\{exp_type}\\\\{exp_name}\\\\pic\"\n",
    "os.makedirs(f'{saveDir_pic}', exist_ok=True)\n",
    "# Base_dir = \"Depth_supervised\"\n",
    "# Image_dir = \"HG\"\n",
    "\n",
    "Data_dir = \"Depth_supervised\\\\Data\"\n",
    "# suggest_type=\"Random\" # NBV\n",
    "# Camera_dir = \"results_5\"\n",
    "def normalize(img, mi_ma=None, reverse=False):\n",
    "    if mi_ma is not None:\n",
    "        _min, _max = mi_ma\n",
    "    else:\n",
    "        _min = img.min()\n",
    "        _max = img.max()\n",
    "    return 1 - (img-_min)/(_max-_min) if reverse else (img-_min)/(_max-_min)\n",
    "\n",
    "c2w = np.load(os.path.join(Base_dir, Image_dir, 'Camera_poses_golden_85.npy'))\n",
    "c2w = c2w[:, 0:3, 3].T\n",
    "print(c2w[1].shape)\n",
    "\n",
    "## read camera pose by training json file\n",
    "_, c2w_camera, _, _ = load_blender_data(os.path.join(Data_dir), suggest_type=suggest_type, total_num=Global_idx+4)\n",
    "\n",
    "if alpha == 1: #no need normalize\n",
    "    nor_test = test\n",
    "    # nor_test = normalize(test)\n",
    "else:\n",
    "    nor_test = normalize(test)\n",
    "if min_val is not None:\n",
    "    PSNR_nor_test = normalize(PSNR_test, [min_val, max_val], reverse=True)\n",
    "# print(nor_test)\n",
    "c2w_camera = c2w_camera[:, 0:3, 3].T\n",
    "print(c2w_camera)\n",
    "# print(nor_test)"
   ]
  },
  {
   "cell_type": "code",
   "execution_count": 14,
   "metadata": {},
   "outputs": [
    {
     "name": "stderr",
     "output_type": "stream",
     "text": [
      "<ipython-input-14-bdd85dd80fcd>:14: MatplotlibDeprecationWarning: Calling gca() with keyword arguments was deprecated in Matplotlib 3.4. Starting two minor releases later, gca() will take no keyword arguments. The gca() function should only be used to get the current axes, or if no axes exist, create new axes with default keyword arguments. To create a new axes with non-default arguments, use plt.axes() or plt.subplot().\n",
      "  ax = fig.gca(projection='3d', computed_zorder=False)\n",
      "No artists with labels found to put in legend.  Note that artists whose label start with an underscore are ignored when legend() is called with no argument.\n"
     ]
    }
   ],
   "source": [
    "# Enabling the `widget` backend.\n",
    "# This requires jupyter-matplotlib a.k.a. ipympl.\n",
    "# ipympl can be install via pip or conda.\n",
    "%matplotlib qt\n",
    "# aka import ipympl\n",
    "\n",
    "from mpl_toolkits.mplot3d import Axes3D\n",
    "import matplotlib.pyplot as plt\n",
    "from matplotlib import cm\n",
    "from matplotlib.ticker import LinearLocator, FormatStrFormatter\n",
    "import numpy as np\n",
    "\n",
    "fig = plt.figure(figsize=(12, 12))\n",
    "ax = fig.gca(projection='3d', computed_zorder=False)\n",
    "\n",
    "scale = 4\n",
    "# Make data.\n",
    "X = c2w[0]\n",
    "Y = c2w[1]\n",
    "Z = c2w[2]\n",
    "\n",
    "cX = c2w_camera[0]\n",
    "cY = c2w_camera[1]\n",
    "cZ = c2w_camera[2]\n",
    "\n",
    "# Plot the surface.\n",
    "# surf = ax.plot_surface(X, Y, Z, cmap=cm.coolwarm,\n",
    "#                    linewidth=0, antialiased=False)\n",
    "# surf = ax.plot_trisurf(X, Y, Z, cmap=cm.coolwarm,\n",
    "#                    linewidth=0, antialiased=False)\n",
    "# surf = ax.scatter(X, Y, Z, c=nor_test, cmap=cm.jet, s=50, alpha=.7,\n",
    "#                    linewidth=0, antialiased=False, vmin=0., vmax=1.)\n",
    "\n",
    "surf = ax.scatter(X, Y, Z, c=nor_test ,cmap=cm.jet, s=50, alpha=.7,\n",
    "                   linewidth=0, antialiased=False, vmin=0., vmax=1.)\n",
    "\n",
    "# surf = ax.scatter(X, Y, Z, s=50, alpha=.7,\n",
    "#                    linewidth=0, antialiased=False, vmin=0., vmax=1.)\n",
    "                   \n",
    "ax.scatter(cX, cY, cZ, c='r', cmap='Reds', marker='^', alpha=.5, s=300, label='Training Data Views')\n",
    "\n",
    "# for i in range(len(X)):\n",
    "#    ax.text(X[i], Y[i], Z[i], '%s' %(str(i)), size = 8, zorder = 1)\n",
    "\n",
    "ax.set_xlabel('x')\n",
    "ax.set_ylabel('y')\n",
    "ax.set_zlabel('z')\n",
    "# Customize the z axis.\n",
    "ax.set_box_aspect((1, 1, 0.5))\n",
    "ax.set_zlim(0, 4)\n",
    "ax.zaxis.set_major_locator(LinearLocator(5))\n",
    "ax.zaxis.set_major_formatter(FormatStrFormatter('%.02f'))\n",
    "\n",
    "# rotate the axes and update\n",
    "for angle in range(0, 360):\n",
    "   ax.view_init(90, -90)\n",
    "\n",
    "# Add a color bar which maps values to colors.\n",
    "fig.colorbar(surf, shrink=0.5, aspect=5)\n",
    "ax.legend(loc='best')\n",
    "if Savefig:\n",
    "   # plt.savefig(f\"{saveDir_pic}\\{Model}_{exp_type}_{Global_idx}.png\", bbox_inches='tight')\n",
    "   plt.savefig(f\"{saveDir_pic}\\{Model}_{exp_type}_{Global_idx}_ntestColor.png\", bbox_inches='tight')\n",
    "   # plt.savefig(f\"{saveDir_pic}\\{Model}_{exp_type}_{Global_idx}_normalize.png\", bbox_inches='tight')\n",
    "plt.show()"
   ]
  },
  {
   "cell_type": "markdown",
   "metadata": {},
   "source": [
    "## 3D vis for PSNR"
   ]
  },
  {
   "cell_type": "code",
   "execution_count": 118,
   "metadata": {},
   "outputs": [
    {
     "name": "stderr",
     "output_type": "stream",
     "text": [
      "<ipython-input-118-a0ebe779c1e6>:14: MatplotlibDeprecationWarning: Calling gca() with keyword arguments was deprecated in Matplotlib 3.4. Starting two minor releases later, gca() will take no keyword arguments. The gca() function should only be used to get the current axes, or if no axes exist, create new axes with default keyword arguments. To create a new axes with non-default arguments, use plt.axes() or plt.subplot().\n",
      "  ax = fig.gca(projection='3d', computed_zorder=False)\n"
     ]
    }
   ],
   "source": [
    "# Enabling the `widget` backend.\n",
    "# This requires jupyter-matplotlib a.k.a. ipympl.\n",
    "# ipympl can be install via pip or conda.\n",
    "%matplotlib qt\n",
    "# aka import ipympl\n",
    "\n",
    "from mpl_toolkits.mplot3d import Axes3D\n",
    "import matplotlib.pyplot as plt\n",
    "from matplotlib import cm\n",
    "from matplotlib.ticker import LinearLocator, FormatStrFormatter\n",
    "import numpy as np\n",
    "\n",
    "fig = plt.figure(figsize=(12, 12))\n",
    "ax = fig.gca(projection='3d', computed_zorder=False)\n",
    "\n",
    "scale = 4\n",
    "# Make data.\n",
    "X = c2w[0]\n",
    "Y = c2w[1]\n",
    "Z = c2w[2]\n",
    "\n",
    "cX = c2w_camera[0]\n",
    "cY = c2w_camera[1]\n",
    "cZ = c2w_camera[2]\n",
    "\n",
    "# Plot the surface.\n",
    "# surf = ax.plot_surface(X, Y, Z, cmap=cm.coolwarm,\n",
    "#                    linewidth=0, antialiased=False)\n",
    "# surf = ax.plot_trisurf(X, Y, Z, cmap=cm.coolwarm,\n",
    "#                    linewidth=0, antialiased=False)\n",
    "surf = ax.scatter(X, Y, Z, c=PSNR_nor_test, cmap=cm.jet, s=50, alpha=.7,\n",
    "                   linewidth=0, antialiased=False, vmin=0., vmax=1.)\n",
    "ax.scatter(cX, cY, cZ, c='r', cmap='Reds', marker='^', alpha=.5, s=300, label='Training Data Views')\n",
    "\n",
    "# for i in range(len(X)):\n",
    "#    ax.text(X[i], Y[i], Z[i], '%s' %(str(i)), size = 8, zorder = 1)\n",
    "\n",
    "ax.set_xlabel('x')\n",
    "ax.set_ylabel('y')\n",
    "ax.set_zlabel('z')\n",
    "# Customize the z axis.\n",
    "ax.set_box_aspect((1, 1, 0.5))\n",
    "ax.set_zlim(0, 4)\n",
    "ax.zaxis.set_major_locator(LinearLocator(5))\n",
    "ax.zaxis.set_major_formatter(FormatStrFormatter('%.02f'))\n",
    "\n",
    "# rotate the axes and update\n",
    "for angle in range(0, 360):\n",
    "   ax.view_init(90, -90)\n",
    "   # ax.view_init(30, 40)\n",
    "\n",
    "# Add a color bar which maps values to colors.\n",
    "fig.colorbar(surf, shrink=0.5, aspect=5)\n",
    "ax.legend(loc='best')\n",
    "if Savefig:\n",
    "   plt.savefig(f\"{saveDir_pic}\\{Model}_{exp_type}_{Global_idx}_gt_PSNR.png\", bbox_inches='tight')\n",
    "plt.show()"
   ]
  },
  {
   "cell_type": "markdown",
   "metadata": {},
   "source": [
    "## For show evaluation"
   ]
  },
  {
   "cell_type": "markdown",
   "metadata": {},
   "source": [
    "### MEAN"
   ]
  },
  {
   "cell_type": "code",
   "execution_count": 67,
   "metadata": {},
   "outputs": [
    {
     "data": {
      "image/png": "[encoded data removed]",
      "text/plain": [
       "<Figure size 1000x800 with 1 Axes>"
      ]
     },
     "metadata": {},
     "output_type": "display_data"
    }
   ],
   "source": [
    "# %matplotlib notebook\n",
    "# proj_dir = \"Depth_supervised\\\\lego\\\\NBV_exp\\\\NBV_suggest\\\\\n",
    "\n",
    "model_name = \"rabbit\" # lego # chair # rabbit\n",
    "metric = \"LPIPS\" # PSNR# SSIM # LPIPS_vgg # LPIPS\n",
    "\n",
    "ALL_Dir = f\"Depth_supervised\\\\lego\\\\NBV_exp\\\\NBV_suggest\\\\AllUncert\\\\{model_name}_AllUncert\"\n",
    "NRIQA_Dir = f\"Depth_supervised\\\\lego\\\\NBV_exp\\\\NBV_suggest\\\\NRIQA\\\\{model_name}_NRIQA\"\n",
    "# DO_Dir = \"Depth_supervised\\\\lego\\\\NBV_exp\\\\NBV_suggest\\\\lego_DO\"\n",
    "Rand_Dir = f\"Depth_supervised\\\\lego\\\\NBV_exp\\\\NBV_suggest\\\\Rand\\\\{model_name}_Rand\"\n",
    "Round_Dir = f\"Depth_supervised\\\\lego\\\\NBV_exp\\\\NBV_suggest\\\\Round\\\\{model_name}_Round\"\n",
    "Max_Dir = f\"Depth_supervised\\\\lego\\\\NBV_exp\\\\NBV_suggest\\\\Max\\\\{model_name}_Max\"\n",
    "\n",
    "save_dir = \"Depth_supervised\\\\lego\\\\NBV_exp\\\\NBV_suggest\\\\exp_pic\"\n",
    "\n",
    "\n",
    "m_idx = 0\n",
    "base = np.loadtxt(Rand_Dir+\"/\"+f\"{model_name}_NBV_Rand_0_res/mean.txt\")\n",
    "\n",
    "if metric == \"PSNR\":\n",
    "    m_idx = 0\n",
    "elif metric == \"SSIM\":\n",
    "    m_idx = 1 \n",
    "else: # LPIPS_vgg\n",
    "    m_idx = 2\n",
    "\n",
    "All_value=[]\n",
    "NRIQA_value=[]\n",
    "DO_value=[]\n",
    "Rand_value=[]\n",
    "Round_value=[]\n",
    "Max_value=[]\n",
    "\n",
    "All_value.append(base[m_idx])\n",
    "NRIQA_value.append(base[m_idx])\n",
    "# DO_value.append(base[m_idx])\n",
    "Rand_value.append(base[m_idx])\n",
    "Round_value.append(base[m_idx])\n",
    "Max_value.append(base[m_idx])\n",
    "\n",
    "for i in range(1, 12):\n",
    "    All_name = f'{model_name}_NBV_AllUncert_{i}_res'\n",
    "    NRIQA_name = f'{model_name}_NBV_NRIQA_{i}_res'\n",
    "    # DO_name = f'lego_NBV_DO_{i}'\n",
    "    Rand_name = f'{model_name}_NBV_Rand_{i}_res'\n",
    "    Round_name = f'{model_name}_NBV_round_{i}_res'\n",
    "    Max_name = f'{model_name}_NBV_Max_{i}_res'\n",
    "\n",
    "    AL = np.loadtxt(ALL_Dir+\"/\"+f\"{All_name}/mean.txt\")\n",
    "    NR = np.loadtxt(NRIQA_Dir+\"/\"+f\"{NRIQA_name}/mean.txt\")\n",
    "    Rand = np.loadtxt(Rand_Dir+\"/\"+f\"{Rand_name}/mean.txt\")\n",
    "    Round = np.loadtxt(Round_Dir+\"/\"+f\"{Round_name}/mean.txt\")\n",
    "    Mx = np.loadtxt(Max_Dir+\"/\"+f\"{Max_name}/mean.txt\")\n",
    "    \n",
    "    All_value.append(AL[m_idx])\n",
    "    NRIQA_value.append(NR[m_idx])\n",
    "    Rand_value.append(Rand[m_idx])\n",
    "    Round_value.append(Round[m_idx])\n",
    "    Max_value.append(Mx[m_idx])\n",
    "    \n",
    "    # if i > 8:\n",
    "    #     DO_value.append(None)\n",
    "    #     continue\n",
    "    # DO_value.append(np.loadtxt(DO_Dir+\"/\"+f\"{DO_name}/mean.txt\"))\n",
    "\n",
    "All_value=np.asarray(All_value)\n",
    "NRIQA_value=np.asarray(NRIQA_value)\n",
    "# DO_value=np.asarray(DO_value)\n",
    "Rand_value=np.asarray(Rand_value)\n",
    "Round_value=np.asarray(Round_value)\n",
    "Max_value=np.asarray(Max_value)\n",
    "\n",
    "# plot\n",
    "x = np.arange(0, 12)\n",
    "plt.figure(figsize=(10, 8))\n",
    "plt.grid(True)\n",
    "# plt.title(f\"{model_name} Mean {metric} with different metrics\")\n",
    "plt.ylabel(f\"Mean {metric}\", fontsize=16)\n",
    "plt.xlabel(\"Next Best View Iteration\", fontsize=16)\n",
    "# plt.ylim(-10, 260)\n",
    "plt.xticks(x)\n",
    "plt.xlim(0, 11)\n",
    "lines_NRIQA = plt.plot(x, NRIQA_value, label=\"NRIQA\", color='r')\n",
    "lines_Round = plt.plot(x, Round_value, label=\"NRIQA nearby\", color='orange')\n",
    "lines_Rand = plt.plot(x, Rand_value, label=\"Random\", color='g')\n",
    "lines_Max = plt.plot(x, Max_value, label=\"Max dist\", color='c')\n",
    "# lines_DO = plt.plot(x, DO_value, label=\"DO\")\n",
    "lines_All = plt.plot(x, All_value, label=\"blend w/ depth\", color='tab:purple')\n",
    "lines = (lines_NRIQA, lines_Round, lines_Rand, lines_Max, lines_All)\n",
    "\n",
    "# plt.axvspan(8.95, 9.05, color='red', alpha=0.7, label=\"Reach terminal threshold\")\n",
    "plt.setp(lines, marker=\"o\")\n",
    "plt.legend(loc='best')\n",
    "plt.savefig(save_dir + f'/{model_name}_5_mean_{metric}.jpg', bbox_inches='tight')\n",
    "plt.show()"
   ]
  },
  {
   "cell_type": "markdown",
   "metadata": {},
   "source": [
    "### MIN and std"
   ]
  },
  {
   "cell_type": "code",
   "execution_count": 76,
   "metadata": {},
   "outputs": [
    {
     "data": {
      "image/png": "[encoded data removed]",
      "text/plain": [
       "<Figure size 1000x800 with 1 Axes>"
      ]
     },
     "metadata": {},
     "output_type": "display_data"
    }
   ],
   "source": [
    "\n",
    "model_name = \"rabbit\" # lego # chair # rabbit\n",
    "model_type = \"std\" #min / std\n",
    "metric = \"ssim\" # PSNR # ssim # LPIPS_vgg # LPIPS\n",
    "\n",
    "ALL_Dir = f\"Depth_supervised\\\\lego\\\\NBV_exp\\\\NBV_suggest\\\\AllUncert\\\\{model_name}_AllUncert\"\n",
    "NRIQA_Dir = f\"Depth_supervised\\\\lego\\\\NBV_exp\\\\NBV_suggest\\\\NRIQA\\\\{model_name}_NRIQA\"\n",
    "# DO_Dir = \"Depth_supervised\\\\lego\\\\NBV_exp\\\\NBV_suggest\\\\lego_DO\"\n",
    "Rand_Dir = f\"Depth_supervised\\\\lego\\\\NBV_exp\\\\NBV_suggest\\\\Rand\\\\{model_name}_Rand\"\n",
    "Round_Dir = f\"Depth_supervised\\\\lego\\\\NBV_exp\\\\NBV_suggest\\\\Round\\\\{model_name}_Round\"\n",
    "Max_Dir = f\"Depth_supervised\\\\lego\\\\NBV_exp\\\\NBV_suggest\\\\Max\\\\{model_name}_Max\"\n",
    "\n",
    "save_dir = \"Depth_supervised\\\\lego\\\\NBV_exp\\\\NBV_suggest\\\\exp_pic\"\n",
    "\n",
    "\n",
    "base = np.loadtxt(Rand_Dir+\"/\"+f\"{model_name}_NBV_Rand_0_res/test_views_{metric}.txt\")\n",
    "if model_type == \"min\":\n",
    "    base = np.min(base)\n",
    "else:\n",
    "    base_mean = np.mean(base)\n",
    "    base = np.std(base)\n",
    "# print(base)\n",
    "All_value=[]\n",
    "NRIQA_value=[]\n",
    "DO_value=[]\n",
    "Rand_value=[]\n",
    "Round_value=[]\n",
    "Max_value=[]\n",
    "\n",
    "##mean\n",
    "All_value_mean=[]\n",
    "NRIQA_value_mean=[]\n",
    "# DO_value=[]\n",
    "Rand_value_mean=[]\n",
    "Round_value_mean=[]\n",
    "Max_value_mean=[]\n",
    "\n",
    "All_value_mean.append(base_mean)\n",
    "NRIQA_value_mean.append(base_mean)\n",
    "Rand_value_mean.append(base_mean)\n",
    "Round_value_mean.append(base_mean)\n",
    "Max_value_mean.append(base_mean)\n",
    "#######\n",
    "\n",
    "All_value.append(base)\n",
    "NRIQA_value.append(base)\n",
    "# DO_value.append(base)\n",
    "Rand_value.append(base)\n",
    "Round_value.append(base)\n",
    "Max_value.append(base)\n",
    "\n",
    "\n",
    "for i in range(1, 12):\n",
    "    All_name = f'{model_name}_NBV_AllUncert_{i}_res'\n",
    "    NRIQA_name = f'{model_name}_NBV_NRIQA_{i}_res'\n",
    "    # DO_name = f'lego_NBV_DO_{i}'\n",
    "    Rand_name = f'{model_name}_NBV_Rand_{i}_res'\n",
    "    Round_name = f'{model_name}_NBV_round_{i}_res'\n",
    "    Max_name = f'{model_name}_NBV_Max_{i}_res'\n",
    "\n",
    "    all_v = np.loadtxt(ALL_Dir+\"/\"+f\"{All_name}/test_views_{metric}.txt\")\n",
    "    NRIQA_v = np.loadtxt(NRIQA_Dir+\"/\"+f\"{NRIQA_name}/test_views_{metric}.txt\")\n",
    "    Rand_v = np.loadtxt(Rand_Dir+\"/\"+f\"{Rand_name}/test_views_{metric}.txt\")\n",
    "    Round_v = np.loadtxt(Round_Dir+\"/\"+f\"{Round_name}/test_views_{metric}.txt\")\n",
    "    Mx_v = np.loadtxt(Max_Dir+\"/\"+f\"{Max_name}/test_views_{metric}.txt\")\n",
    "\n",
    "    if model_type == \"min\":\n",
    "        All_value.append(np.min(all_v))\n",
    "        NRIQA_value.append(np.min(NRIQA_v))\n",
    "        Rand_value.append(np.min(Rand_v))\n",
    "        Round_value.append(np.min(Round_v))\n",
    "        Max_value.append(np.min(Mx_v))\n",
    "        # print(np.min(Rand_v))\n",
    "        # print(np.where(Rand_v == np.min(Rand_v))[0])\n",
    "    else:\n",
    "        All_value.append(np.std(all_v))\n",
    "        NRIQA_value.append(np.std(NRIQA_v))\n",
    "        Rand_value.append(np.std(Rand_v))\n",
    "        Round_value.append(np.std(Round_v))\n",
    "        Max_value.append(np.std(Mx_v))\n",
    "\n",
    "        All_value_mean.append(np.mean(all_v))\n",
    "        NRIQA_value_mean.append(np.mean(NRIQA_v))\n",
    "        Rand_value_mean.append(np.mean(Rand_v))\n",
    "        Round_value_mean.append(np.mean(Round_v))\n",
    "        Max_value_mean.append(np.mean(Mx_v))\n",
    "    # if i > 8:\n",
    "    #     DO_value.append(None)\n",
    "    #     continue\n",
    "\n",
    "    # if model_type == \"mean\":\n",
    "    #     DO_value.append(np.loadtxt(DO_Dir+\"/\"+f\"{DO_name}/mean.txt\"))\n",
    "    # else:\n",
    "    #     if model_type == \"min\":\n",
    "    #         DO_value.append(np.min(np.loadtxt(DO_Dir+\"/\"+f\"{DO_name}/test_views_PSNR.txt\")))\n",
    "    #     else:\n",
    "    #         DO_value.append(np.std(np.loadtxt(DO_Dir+\"/\"+f\"{DO_name}/test_views_PSNR.txt\")))\n",
    "All_value_mean=np.asarray(All_value_mean)\n",
    "NRIQA_value_mean=np.asarray(NRIQA_value_mean)\n",
    "# DO_value=np.asarray(DO_value)\n",
    "Rand_value_mean=np.asarray(Rand_value_mean)\n",
    "Round_value_mean=np.asarray(Round_value_mean)\n",
    "Max_value_mean=np.asarray(Max_value_mean)\n",
    "\n",
    "\n",
    "All_value=np.asarray(All_value)\n",
    "NRIQA_value=np.asarray(NRIQA_value)\n",
    "# DO_value=np.asarray(DO_value)\n",
    "Rand_value=np.asarray(Rand_value)\n",
    "Round_value=np.asarray(Round_value)\n",
    "Max_value=np.asarray(Max_value)\n",
    "\n",
    "# plot\n",
    "x = np.arange(0, 12)\n",
    "plt.figure(figsize=(10, 8))\n",
    "plt.grid(True)\n",
    "# plt.title(f\"{model_name} {model_type} {metric} with different metrics\")\n",
    "# plt.ylabel(f\"{model_type} of {metric}\")\n",
    "plt.ylabel(f\"Standard deviation of {metric}\", fontsize=16)\n",
    "plt.xlabel(\"Next Best View Iteration\", fontsize=16)\n",
    "# plt.ylim(-10, 260)\n",
    "plt.xticks(x)\n",
    "plt.xlim(0, 11)\n",
    "lines_NRIQA = plt.plot(x, NRIQA_value, label=\"NRIQA\", color='r')\n",
    "lines_Round = plt.plot(x, Round_value, label=\"NRIQA nearby\", color='orange')\n",
    "lines_Rand = plt.plot(x, Rand_value, label=\"Random\", color='g')\n",
    "lines_Max = plt.plot(x, Max_value, label=\"Max dist\", color='c')\n",
    "# lines_DO = plt.plot(x, DO_value, label=\"DO\")\n",
    "lines_All = plt.plot(x, All_value, label=\"blend w/ depth\", color='tab:purple')\n",
    "lines = (lines_NRIQA, lines_Round, lines_Rand, lines_Max, lines_All)\n",
    "\n",
    "# error_All = plt.errorbar(x, All_value_mean, All_value, label=\"Allmetric\", fmt='-o', capsize=10)\n",
    "# error_NRIQA = plt.errorbar(x, NRIQA_value_mean, NRIQA_value, label=\"NRIQA\", fmt='-o', capsize=10)\n",
    "# error_Rand = plt.errorbar(x, Rand_value_mean, Rand_value, label=\"Random\", fmt='-o', capsize=10)\n",
    "# error_Round = plt.errorbar(x, Round_value_mean, Round_value, label=\"Round\", fmt='-o', capsize=10)\n",
    "\n",
    "\n",
    "# plt.axvspan(8.95, 9.05, color='red', alpha=0.7, label=\"Reach terminal threshold\")\n",
    "plt.setp(lines, marker='o')\n",
    "plt.legend(loc='best')\n",
    "plt.savefig(save_dir + f'/{model_name}_5metrics_{model_type}_{metric}.jpg', bbox_inches='tight')\n",
    "plt.show()"
   ]
  },
  {
   "cell_type": "markdown",
   "metadata": {},
   "source": [
    "## For Test Fibonacci Spiral"
   ]
  },
  {
   "cell_type": "code",
   "execution_count": null,
   "metadata": {},
   "outputs": [
    {
     "name": "stdout",
     "output_type": "stream",
     "text": [
      "[[ 0.         -0.31090081  0.05205757 ... -0.38490656 -0.01633618\n",
      "   0.        ]\n",
      " [ 4.          3.97771588  3.95543175 ... -3.95543175 -3.97771588\n",
      "  -4.        ]\n",
      " [ 0.          0.28481061 -0.59316915 ...  0.4543199  -0.4213188\n",
      "   0.        ]]\n"
     ]
    }
   ],
   "source": [
    "def fibonacci_sphere(samples=360):\n",
    "\n",
    "    points = []\n",
    "    phi = math.pi * (3. - math.sqrt(5.))  # golden angle in radians\n",
    "\n",
    "    for i in range(samples):\n",
    "        y = 4 - (i / float(samples - 1)) * 8  # y goes from 1 to -1\n",
    "        radius = math.sqrt(16 - y * y)  # radius at y\n",
    "\n",
    "        theta = phi * i  # golden angle increment\n",
    "\n",
    "        x = math.cos(theta) * radius\n",
    "        z = math.sin(theta) * radius\n",
    "\n",
    "        points.append((x, y, z))\n",
    "\n",
    "    return points\n",
    "sphere = fibonacci_sphere()\n",
    "sphere = np.array(sphere).T\n",
    "print(sphere)"
   ]
  },
  {
   "cell_type": "code",
   "execution_count": null,
   "metadata": {},
   "outputs": [],
   "source": [
    "def rad2degree(rad):\n",
    "    return rad*180/np.pi\n",
    "def golden_sphere(samples=360):\n",
    "    indices = np.arange(0, samples, dtype=float) + 0.5\n",
    "    radius = 4\n",
    "    phi = np.arcsin(1 - 0.85*indices/samples) ## add \"-\" for blender\n",
    "    theta = np.pi * (1 + 5**0.5) * indices\n",
    "\n",
    "    x, y, z = radius*np.cos(theta) * np.cos(phi), radius*np.sin(theta) * np.cos(phi), radius*np.sin(phi);\n",
    "    arr = np.array([x, y, z])\n",
    "    return arr, phi, theta, radius\n",
    "    # return -rad2degree(phi), rad2degree(theta)%360\n",
    "sphere, phi, theta, radius = golden_sphere()\n",
    "# phi, theta = goden_sphere()\n",
    "# print(phi)\n",
    "# print(theta)\n",
    "# print(rad2degree(theta)%360)\n",
    "\n"
   ]
  },
  {
   "cell_type": "code",
   "execution_count": 16,
   "metadata": {},
   "outputs": [
    {
     "name": "stderr",
     "output_type": "stream",
     "text": [
      "<ipython-input-16-f9e0d807626e>:14: MatplotlibDeprecationWarning: Calling gca() with keyword arguments was deprecated in Matplotlib 3.4. Starting two minor releases later, gca() will take no keyword arguments. The gca() function should only be used to get the current axes, or if no axes exist, create new axes with default keyword arguments. To create a new axes with non-default arguments, use plt.axes() or plt.subplot().\n",
      "  ax = fig.gca(projection='3d', computed_zorder=False)\n"
     ]
    },
    {
     "ename": "NameError",
     "evalue": "name 'sphere' is not defined",
     "output_type": "error",
     "traceback": [
      "\u001b[1;31m---------------------------------------------------------------------------\u001b[0m",
      "\u001b[1;31mNameError\u001b[0m                                 Traceback (most recent call last)",
      "\u001b[1;32m<ipython-input-16-f9e0d807626e>\u001b[0m in \u001b[0;36m<module>\u001b[1;34m\u001b[0m\n\u001b[0;32m     16\u001b[0m \u001b[0mscale\u001b[0m \u001b[1;33m=\u001b[0m \u001b[1;36m4\u001b[0m\u001b[1;33m\u001b[0m\u001b[1;33m\u001b[0m\u001b[0m\n\u001b[0;32m     17\u001b[0m \u001b[1;31m# Make data.\u001b[0m\u001b[1;33m\u001b[0m\u001b[1;33m\u001b[0m\u001b[1;33m\u001b[0m\u001b[0m\n\u001b[1;32m---> 18\u001b[1;33m \u001b[0mX\u001b[0m \u001b[1;33m=\u001b[0m \u001b[0msphere\u001b[0m\u001b[1;33m[\u001b[0m\u001b[1;36m0\u001b[0m\u001b[1;33m]\u001b[0m\u001b[1;33m\u001b[0m\u001b[1;33m\u001b[0m\u001b[0m\n\u001b[0m\u001b[0;32m     19\u001b[0m \u001b[0mY\u001b[0m \u001b[1;33m=\u001b[0m \u001b[0msphere\u001b[0m\u001b[1;33m[\u001b[0m\u001b[1;36m1\u001b[0m\u001b[1;33m]\u001b[0m\u001b[1;33m\u001b[0m\u001b[1;33m\u001b[0m\u001b[0m\n\u001b[0;32m     20\u001b[0m \u001b[0mZ\u001b[0m \u001b[1;33m=\u001b[0m \u001b[0msphere\u001b[0m\u001b[1;33m[\u001b[0m\u001b[1;36m2\u001b[0m\u001b[1;33m]\u001b[0m\u001b[1;33m\u001b[0m\u001b[1;33m\u001b[0m\u001b[0m\n",
      "\u001b[1;31mNameError\u001b[0m: name 'sphere' is not defined"
     ]
    }
   ],
   "source": [
    "# Enabling the `widget` backend.\n",
    "# This requires jupyter-matplotlib a.k.a. ipympl.\n",
    "# ipympl can be install via pip or conda.\n",
    "%matplotlib qt\n",
    "# aka import ipympl\n",
    "\n",
    "from mpl_toolkits.mplot3d import Axes3D\n",
    "import matplotlib.pyplot as plt\n",
    "from matplotlib import cm\n",
    "from matplotlib.ticker import LinearLocator, FormatStrFormatter\n",
    "import numpy as np\n",
    "\n",
    "fig = plt.figure(figsize=(12, 12))\n",
    "ax = fig.gca(projection='3d', computed_zorder=False)\n",
    "\n",
    "scale = 4\n",
    "# Make data.\n",
    "X = sphere[0]\n",
    "Y = sphere[1]\n",
    "Z = sphere[2]\n",
    "\n",
    "# Plot the surface.\n",
    "# surf = ax.plot_surface(X, Y, Z, cmap=cm.coolwarm,\n",
    "#                    linewidth=0, antialiased=False)\n",
    "# surf = ax.plot_trisurf(X, Y, Z, cmap=cm.coolwarm,\n",
    "#                    linewidth=0, antialiased=False)\n",
    "surf = ax.scatter(X, Y, Z, cmap=cm.jet, s=50, alpha=.7,\n",
    "                   linewidth=0, antialiased=False, vmin=0., vmax=1.)\n",
    "\n",
    "# surf = ax.scatter(X, Y, Z, s=50, alpha=.7,\n",
    "#                    linewidth=0, antialiased=False, vmin=0., vmax=1.)\n",
    "                   \n",
    "# ax.scatter(cX, cY, cZ, c='r', cmap='Reds', marker='^', alpha=.5, s=300, label='Training Data Views')\n",
    "\n",
    "# for i in range(len(X)):\n",
    "#    ax.text(X[i], Y[i], Z[i], '%s' %(str(i)), size = 8, zorder = 1)\n",
    "\n",
    "ax.set_xlabel('x')\n",
    "ax.set_ylabel('y')\n",
    "ax.set_zlabel('z')\n",
    "# Customize the z axis.\n",
    "ax.set_box_aspect((1, 1, 0.5))\n",
    "# ax.set_xlim(-5, 5)\n",
    "# ax.set_ylim(-5, 5)\n",
    "ax.set_zlim(0, 4)\n",
    "ax.zaxis.set_major_locator(LinearLocator(5))\n",
    "ax.zaxis.set_major_formatter(FormatStrFormatter('%.02f'))\n",
    "\n",
    "# rotate the axes and update\n",
    "for angle in range(0, 360):\n",
    "   ax.view_init(90, -90)\n",
    "\n",
    "# Add a color bar which maps values to colors.\n",
    "fig.colorbar(surf, shrink=0.5, aspect=5)\n",
    "ax.legend(loc='best')\n",
    "# if Savefig:\n",
    "#    plt.savefig(f\"{saveDir_pic}\\{Global_idx}.png\", bbox_inches='tight')\n",
    "plt.show()"
   ]
  },
  {
   "cell_type": "markdown",
   "metadata": {},
   "source": [
    "## for vis LLFF "
   ]
  },
  {
   "cell_type": "code",
   "execution_count": 6,
   "metadata": {},
   "outputs": [
    {
     "name": "stdout",
     "output_type": "stream",
     "text": [
      "(60,)\n"
     ]
    }
   ],
   "source": [
    "def standarization(X):\n",
    "    X_mean = np.mean(X, axis=0)\n",
    "    X_std = np.std(X, axis=0)\n",
    "    return (X - X_mean)/X_std\n",
    "\n",
    "Global_idx = 3\n",
    "exp_type = \"NRIQA\" #  NRIQA /Rand / Max\n",
    "Model = \"goku\" # goku/ lego / chair / rabbit\n",
    "\n",
    "\n",
    "\n",
    "if exp_type == \"NRIQA\":\n",
    "    exp_name = f'{Model}_NRIQA'\n",
    "elif exp_type == \"Max\":\n",
    "    exp_name = f'{Model}_Max'\n",
    "else:\n",
    "    exp_name = f'{Model}_Rand'\n",
    "\n",
    "# Save_dir = f\"tensorf_{Model}_VM_{save_type}_1\"\n",
    "Base_dir = f\"D:\\\\graduate\\\\research\\\\nbv_nerf\\\\Real_world_scene\\\\{Model}\\\\{exp_type}\"\n",
    "Save_dir = f\"{Model}_llff_nbv_{Global_idx}_res\"\n",
    "# Save_dir = \"test_new_IQA\"\n",
    "\n",
    "NRIQA = np.loadtxt(os.path.join(Base_dir, Save_dir, 'IQA_output.txt'))\n",
    "Raw_NRIQA = NRIQA.copy()\n",
    "max_IQA = 10\n",
    "NRIQA = max_IQA-NRIQA ## reverse value to match uncertainty (higher is bad)\n",
    "NRIQA /= 9 # normalize [1-10] [1-100] \n",
    "# NRIQA = standarization(NRIQA)\n",
    "\n",
    "DO = np.loadtxt(os.path.join(Base_dir, Save_dir, 'Depth_Errors.txt'))\n",
    "# DO = standarization(DO)\n",
    "\n",
    "# print(good_IQA_idx)\n",
    "alpha = 1\n",
    "beta = 0\n",
    "# alpha = 1/90\n",
    "# beta = 89/90\n",
    "test = NRIQA*alpha+DO*beta\n",
    "# test = DO\n",
    "print(test.shape)\n",
    "# print(NRIQA)\n",
    "min_val = None"
   ]
  },
  {
   "cell_type": "code",
   "execution_count": 7,
   "metadata": {},
   "outputs": [
    {
     "name": "stdout",
     "output_type": "stream",
     "text": [
      "(60,)\n"
     ]
    }
   ],
   "source": [
    "root_dir = \"D:\\\\graduate\\\\research\\\\COLMAP-3.7-windows-cuda\\\\projects\\\\goku\\\\goku_llff_less_3\"\n",
    "def load_llff_poses(root_dir):\n",
    "    poses_bounds = np.load(os.path.join(root_dir, 'poses_bounds.npy'))  # (N_images, 17)\n",
    "\n",
    "    poses = poses_bounds[:, :15].reshape(-1, 3, 5)  # (N_images, 3, 5)\n",
    "    near_fars = poses_bounds[:, -2:]  # (N_images, 2)\n",
    "    hwf = poses[:, :, -1]\n",
    "\n",
    "    # Step 1: rescale focal length according to training resolution\n",
    "    H, W, focal = poses[0, :, -1]  # original intrinsics, same for all images\n",
    "\n",
    "    # Step 2: correct poses\n",
    "    # Original poses has rotation in form \"down right back\", change to \"right up back\"\n",
    "    # See https://github.com/bmild/nerf/issues/34\n",
    "    poses = np.concatenate([poses[..., 1:2], -poses[..., :1], poses[..., 2:4]], -1)\n",
    "    return poses[:, :3, :4]\n",
    "\n",
    "Base_dir = \"D:\\\\graduate\\\\research\\\\nbv_nerf\\\\Real_world_scene\\\\goku\"\n",
    "Image_dir = \"camera_pose\"\n",
    "Savefig = True\n",
    "saveDir_pic = f\"{Base_dir}\\\\{exp_type}\\\\res_pic\"\n",
    "os.makedirs(f'{saveDir_pic}', exist_ok=True)\n",
    "\n",
    "Data_dir = \"Depth_supervised\\\\Data\"\n",
    "# suggest_type=\"Random\" # NBV\n",
    "# Camera_dir = \"results_5\"\n",
    "def normalize(img, mi_ma=None, reverse=False):\n",
    "    if mi_ma is not None:\n",
    "        _min, _max = mi_ma\n",
    "    else:\n",
    "        _min = img.min()\n",
    "        _max = img.max()\n",
    "    return 1 - (img-_min)/(_max-_min) if reverse else (img-_min)/(_max-_min)\n",
    "\n",
    "c2w = np.load(os.path.join(Base_dir, Image_dir, 'Camera_poses_ring.npy'))\n",
    "c2w = c2w[:, 0:3, 3].T\n",
    "print(c2w[1].shape)\n",
    "\n",
    "## read camera pose by training json file\n",
    "## load llff npy\n",
    "# c2w_camera = load_llff_poses(root_dir)\n",
    "\n",
    "# if alpha == 1: #no need normalize\n",
    "#     nor_test = test\n",
    "# else:\n",
    "nor_test = normalize(test)\n",
    "# if min_val is not None:\n",
    "#     PSNR_nor_test = normalize(PSNR_test, [min_val, max_val], reverse=True)\n",
    "\n",
    "# c2w_camera = c2w_camera[:, 0:3, 3].T\n",
    "# print(c2w_camera)\n"
   ]
  },
  {
   "cell_type": "code",
   "execution_count": 9,
   "metadata": {},
   "outputs": [
    {
     "name": "stderr",
     "output_type": "stream",
     "text": [
      "<ipython-input-9-ff9508a9c7cd>:14: MatplotlibDeprecationWarning: Calling gca() with keyword arguments was deprecated in Matplotlib 3.4. Starting two minor releases later, gca() will take no keyword arguments. The gca() function should only be used to get the current axes, or if no axes exist, create new axes with default keyword arguments. To create a new axes with non-default arguments, use plt.axes() or plt.subplot().\n",
      "  ax = fig.gca(projection='3d', computed_zorder=False)\n"
     ]
    }
   ],
   "source": [
    "# Enabling the `widget` backend.\n",
    "# This requires jupyter-matplotlib a.k.a. ipympl.\n",
    "# ipympl can be install via pip or conda.\n",
    "%matplotlib qt\n",
    "# aka import ipympl\n",
    "\n",
    "from mpl_toolkits.mplot3d import Axes3D\n",
    "import matplotlib.pyplot as plt\n",
    "from matplotlib import cm\n",
    "from matplotlib.ticker import LinearLocator, FormatStrFormatter\n",
    "import numpy as np\n",
    "\n",
    "fig = plt.figure(figsize=(12, 12))\n",
    "ax = fig.gca(projection='3d', computed_zorder=False)\n",
    "## hide\n",
    "ax.grid(False)\n",
    "ax.set_xticks([])\n",
    "ax.set_yticks([])\n",
    "ax.set_zticks([])\n",
    "\n",
    "scale = 4\n",
    "# Make data.\n",
    "X = c2w[0]\n",
    "Y = c2w[1]\n",
    "Z = c2w[2]\n",
    "\n",
    "# cX = c2w_camera[0]\n",
    "# cY = c2w_camera[1]\n",
    "# cZ = c2w_camera[2]\n",
    "\n",
    "# Plot the surface.\n",
    "# surf = ax.plot_surface(X, Y, Z, cmap=cm.coolwarm,\n",
    "#                    linewidth=0, antialiased=False)\n",
    "# surf = ax.plot_trisurf(X, Y, Z, cmap=cm.coolwarm,\n",
    "#                    linewidth=0, antialiased=False)\n",
    "surf = ax.scatter(X, Y, Z, c=nor_test, cmap=cm.jet, s=50, \n",
    "                   linewidth=0, antialiased=False, vmin=0., vmax=1.)\n",
    "\n",
    "# surf = ax.scatter(X, Y, Z, s=50, alpha=.7,\n",
    "#                    linewidth=0, antialiased=False, vmin=0., vmax=1.)\n",
    "                   \n",
    "# ax.scatter(cX, cY, cZ, c='r', cmap='Reds', marker='^', alpha=.5, s=300, label='Training Data Views')\n",
    "\n",
    "# for i in range(len(X)):\n",
    "#    ax.text(X[i], Y[i], Z[i], '%s' %(str(i)), size = 8, zorder = 1)\n",
    "\n",
    "# ax.set_xlabel('x')\n",
    "# ax.set_ylabel('y')\n",
    "# ax.set_zlabel('z')\n",
    "# # Customize the z axis.\n",
    "# ax.set_box_aspect((1, 1, 0.5))\n",
    "# ax.set_zlim(0, 4)\n",
    "# ax.zaxis.set_major_locator(LinearLocator(5))\n",
    "# ax.zaxis.set_major_formatter(FormatStrFormatter('%.02f'))\n",
    "\n",
    "# rotate the axes and update\n",
    "for angle in range(0, 360):\n",
    "   ax.view_init(90, -90)\n",
    "\n",
    "# Add a color bar which maps values to colors.\n",
    "# fig.colorbar(surf, shrink=0.5, aspect=5)\n",
    "# ax.legend(loc='best')\n",
    "if Savefig:\n",
    "   # plt.savefig(f\"{saveDir_pic}\\{Model}_{exp_type}_{Global_idx}.png\", bbox_inches='tight')\n",
    "   plt.savefig(f\"{saveDir_pic}\\\\ring_transparent.png\", bbox_inches='tight', transparent=True)\n",
    "   # plt.savefig(f\"{saveDir_pic}\\{Model}_{exp_type}_{Global_idx}_GT.png\", bbox_inches='tight')\n",
    "plt.show()"
   ]
  },
  {
   "cell_type": "code",
   "execution_count": 14,
   "metadata": {},
   "outputs": [],
   "source": [
    "fig = plt.figure(figsize=(12, 12))\n",
    "\n",
    "X = c2w[0]\n",
    "Y = c2w[1]\n",
    "plt.scatter(X,Y, c=nor_test, cmap=cm.jet, vmin=0., vmax=1.)\n",
    "if Savefig:\n",
    "   # plt.savefig(f\"{saveDir_pic}\\{Model}_{exp_type}_{Global_idx}.png\", bbox_inches='tight')\n",
    "   plt.savefig(f\"{saveDir_pic}\\\\ring_transparent.png\", bbox_inches='tight', transparent=True)\n",
    "plt.show()"
   ]
  }
 ],
 "metadata": {
  "interpreter": {
   "hash": "641965b35f6019cc4c9097264020312f8134c66cc7826b5d79bee777498e95c6"
  },
  "kernelspec": {
   "display_name": "Python 3.8.8 ('train')",
   "language": "python",
   "name": "python3"
  },
  "language_info": {
   "codemirror_mode": {
    "name": "ipython",
    "version": 3
   },
   "file_extension": ".py",
   "mimetype": "text/x-python",
   "name": "python",
   "nbconvert_exporter": "python",
   "pygments_lexer": "ipython3",
   "version": "3.8.8"
  },
  "orig_nbformat": 4
 },
 "nbformat": 4,
 "nbformat_minor": 2
}
